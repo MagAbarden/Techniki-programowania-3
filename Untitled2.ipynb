{
 "cells": [
  {
   "cell_type": "code",
   "execution_count": 2,
   "id": "f5a7c185-2bba-430a-ad21-e27ba0bd19c5",
   "metadata": {},
   "outputs": [
    {
     "data": {
      "text/plain": [
       "['2 0i', '-2 -2i', '0 -2i', '4 4i']"
      ]
     },
     "execution_count": 2,
     "metadata": {},
     "output_type": "execute_result"
    }
   ],
   "source": [
    "\n",
    "import scikit_build_example as m\n",
    "\n",
    "m.visualizeSignal(100, \"./test-audio.wav\")\n",
    "m.Discrete_Fourier_transform([1, 2, 0, -1], [0, -1, -1, 2])"
   ]
  },
  {
   "cell_type": "code",
   "execution_count": null,
   "id": "ab233425-278a-4691-bfa0-14dbb7dba2e7",
   "metadata": {},
   "outputs": [],
   "source": []
  },
  {
   "cell_type": "code",
   "execution_count": null,
   "id": "a2f02f71-5617-45fa-9890-93eb41773312",
   "metadata": {},
   "outputs": [],
   "source": []
  }
 ],
 "metadata": {
  "kernelspec": {
   "display_name": "test1",
   "language": "python",
   "name": "test1"
  },
  "language_info": {
   "codemirror_mode": {
    "name": "ipython",
    "version": 3
   },
   "file_extension": ".py",
   "mimetype": "text/x-python",
   "name": "python",
   "nbconvert_exporter": "python",
   "pygments_lexer": "ipython3",
   "version": "3.8.19"
  }
 },
 "nbformat": 4,
 "nbformat_minor": 5
}
